{
 "cells": [
  {
   "cell_type": "markdown",
   "metadata": {},
   "source": [
    "### Suba semanalmente sus avances a git\n",
    "Simule el primer sistema cuántico descrito en la sección 4.1.\n",
    "\n",
    "El sistema consiste en una partícula confinada a un conjunto discreto de posiciones en una línea. El simulador debe permitir especificar el número de posiciones y un vector ket de estado asignando las amplitudes.\n",
    "\n",
    "1. El sistema debe calcular la probabilidad de encontrarlo en una posición en particular."
   ]
  },
  {
   "cell_type": "code",
   "execution_count": 12,
   "metadata": {},
   "outputs": [
    {
     "name": "stdout",
     "output_type": "stream",
     "text": [
      "0.05263157894736841\n"
     ]
    }
   ],
   "source": [
    "import numpy as np\n",
    "\n",
    "def probabiidad(vector,pos):\n",
    "    return np.abs(vector[pos])**2 / np.linalg.norm(vector)**2\n",
    "\n",
    "vector = [-3-1j,-2j,1j,2]\n",
    "print(probabiidad(vector,2))"
   ]
  },
  {
   "cell_type": "markdown",
   "metadata": {},
   "source": [
    "### \n",
    "2. El sistema si se le da otro vector Ket debe buscar la probabilidad de transitar del primer vector al segundo."
   ]
  },
  {
   "cell_type": "code",
   "execution_count": 20,
   "metadata": {},
   "outputs": [
    {
     "name": "stdout",
     "output_type": "stream",
     "text": [
      "0.4985\n"
     ]
    }
   ],
   "source": [
    "import numpy as np\n",
    "import math\n",
    "\n",
    "def probabilidad_transitar(vector2,vector1):\n",
    "    vector2 = np.array(vector2)\n",
    "    adjunta = vector2.T.conj()\n",
    "    probabi = np.abs(np.vdot(adjunta, vector1))**2\n",
    "    return probabi\n",
    "\n",
    "vector2 = [0.3+0.4j,0.7+0.6j]\n",
    "vector1 = [0.6+0.8j,0.1+0.2j]\n",
    "print(probabilidad_transitar(vector2,vector1))"
   ]
  },
  {
   "cell_type": "markdown",
   "metadata": {},
   "source": [
    "### Complete los retos de programación del capítulo 4.\n",
    "1. Amplitud de transición. El sistema puede recibir dos vectores y calcular la probabilidad de transitar de el uno al otro después de hacer la observación"
   ]
  },
  {
   "cell_type": "code",
   "execution_count": 25,
   "metadata": {},
   "outputs": [
    {
     "name": "stdout",
     "output_type": "stream",
     "text": [
      "74.0\n"
     ]
    }
   ],
   "source": [
    "import numpy as np\n",
    "\n",
    "def probabilidad_transitar(vector2, vector1):\n",
    "    vector2 = np.array(vector2)\n",
    "    vector1 = np.array(vector1)\n",
    "    probabilidad = np.abs(np.vdot(vector2, vector1))**2\n",
    "    return probabilidad\n",
    "\n",
    "vector2 = [-3 - 1j, -2j, 1j, 2]\n",
    "vector1 = [1 - 2j, -3j, 4, -5 + 2j]\n",
    "print(probabilidad_transitar(vector2, vector1))\n"
   ]
  },
  {
   "cell_type": "markdown",
   "metadata": {},
   "source": [
    "### \n",
    "2. Ahora con una matriz que describa un observable y un vector ket, el sistema revisa que la matriz sea hermitiana, y si lo es, calcula la media y la varianza del observable en el estado dado."
   ]
  },
  {
   "cell_type": "code",
   "execution_count": 33,
   "metadata": {},
   "outputs": [
    {
     "name": "stdout",
     "output_type": "stream",
     "text": [
      "(True, array([[2.+0.j, 1.+1.j, 0.+0.j],\n",
      "       [1.-1.j, 3.+0.j, 1.+0.j],\n",
      "       [0.+0.j, 1.+0.j, 4.+0.j]]), np.complex128(1.9999999999999996+0j), np.complex128(1.0000000000000009+0j))\n",
      "(1.0000000000000009+0j)\n",
      "(1.9999999999999996+0j)\n"
     ]
    }
   ],
   "source": [
    "import numpy as np\n",
    "\n",
    "def es_hermitiana(matriz):\n",
    "    return np.allclose(matriz, matriz.conj().T)\n",
    "\n",
    "def calcular_observable(matriz, vector_estado, observable):\n",
    "    matriz_hermitiana = np.array(matriz)\n",
    "\n",
    "    if es_hermitiana(matriz_hermitiana):\n",
    "        valor_esperado = media(vector_estado, observable)\n",
    "        return es_hermitiana(matriz_hermitiana), matriz_hermitiana, valor_esperado, calcular_varianza(observable, vector_estado)\n",
    "    else:\n",
    "        return es_hermitiana(matriz_hermitiana), matriz_hermitiana\n",
    "\n",
    "def calcular_varianza(observable, vector_estado):\n",
    "    observable_cuadrado = np.dot(observable, observable)\n",
    "    valor_es1 = np.vdot(vector_estado, np.dot(observable, vector_estado))\n",
    "    valor_es2 = np.vdot(vector_estado, np.dot(observable_cuadrado, vector_estado))\n",
    "    return valor_es2 - valor_es1**2\n",
    "\n",
    "def media(vector, observable):\n",
    "    multiplicacion = np.dot(observable, vector)\n",
    "    return np.vdot(vector, multiplicacion)\n",
    "\n",
    "matriz = np.array([[2, 1 + 1j, 0],\n",
    "                   [1 - 1j, 3, 1],\n",
    "                   [0, 1, 4]])\n",
    "\n",
    "vector_estado = np.array([1 / np.sqrt(2) + 0j, 0, 1 / np.sqrt(2) + 0j]) \n",
    "observable = np.array([[1, 0, 0],\n",
    "                       [0, 2, 0],\n",
    "                       [0, 0, 3]])\n",
    "\n",
    "resultado_observable = calcular_observable(matriz, vector_estado, observable)\n",
    "varianza_resultado = calcular_varianza(observable, vector_estado)\n",
    "resultado_media = media(vector_estado, observable)\n",
    "\n",
    "print(resultado_observable)\n",
    "print(varianza_resultado)\n",
    "print(resultado_media)\n"
   ]
  },
  {
   "cell_type": "markdown",
   "metadata": {},
   "source": [
    "### \n",
    "3. El sistema calcula los valores propios del observable y la probabilidad de que el sistema transite a alguno de los vectores propios después de la observación."
   ]
  },
  {
   "cell_type": "code",
   "execution_count": 36,
   "metadata": {},
   "outputs": [
    {
     "name": "stdout",
     "output_type": "stream",
     "text": [
      "True [[3.+0.j 2.+1.j 1.+0.j]\n",
      " [2.-1.j 4.+0.j 0.+0.j]\n",
      " [1.+0.j 0.+0.j 5.+0.j]] (5+0j) (-14.75+0j)\n"
     ]
    }
   ],
   "source": [
    "import numpy as np\n",
    "\n",
    "def es_hermitiana(matriz):\n",
    "    return np.allclose(matriz, matriz.conj().T)\n",
    "\n",
    "def calcular_observable(matriz, estado, observable):\n",
    "    matriz_hermitiana = np.array(matriz)\n",
    "\n",
    "    if es_hermitiana(matriz_hermitiana):\n",
    "        valor_esperado = np.vdot(estado, np.dot(observable, estado))\n",
    "        return es_hermitiana(matriz_hermitiana), matriz_hermitiana, valor_esperado, calcular_varianza(observable, estado)\n",
    "    else:\n",
    "        return es_hermitiana(matriz_hermitiana), matriz_hermitiana\n",
    "\n",
    "def calcular_varianza(observable, estado):\n",
    "    O2 = np.dot(observable, observable)\n",
    "    valor_es1 = np.vdot(estado, np.dot(observable, estado))\n",
    "    valor_es2 = np.vdot(estado, np.dot(O2, estado))\n",
    "    return valor_es2 - valor_es1**2\n",
    "\n",
    "def calcular_valores_propios(observable):\n",
    "    valores_propios, vectores_propios = np.linalg.eigh(observable)\n",
    "    return valores_propios, vectores_propios\n",
    "\n",
    "def probabilidades_transicion(estado, vectores_propios):\n",
    "    probabilidades = []\n",
    "    for v_i in vectores_propios.T: \n",
    "        probabilidad = np.abs(np.vdot(v_i, estado))**2\n",
    "        probabilidades.append(probabilidad)\n",
    "    return probabilidades\n",
    "\n",
    "matriz_nueva = np.array([[3, 2 + 1j, 1],\n",
    "                         [2 - 1j, 4, 0],\n",
    "                         [1, 0, 5]])\n",
    "\n",
    "vector_nuevo = np.array([2 + 0j, 1 - 1j, 0.5 + 0j])\n",
    "\n",
    "observable_nueva = np.array([[0, 1, 0],\n",
    "                             [1, 0, 1],\n",
    "                             [0, 1, 0]])\n",
    "\n",
    "resultado = calcular_observable(matriz_nueva, vector_nuevo, observable_nueva)\n",
    "es_hermitiana_resultado, matriz_hermitiana_resultado, valor_esperado_resultado, varianza_resultado = resultado\n",
    "print(es_hermitiana_resultado, matriz_hermitiana_resultado, valor_esperado_resultado, varianza_resultado)\n",
    "\n"
   ]
  },
  {
   "cell_type": "markdown",
   "metadata": {},
   "source": [
    "###\n",
    "4. Se considera la dinámica del sistema. Ahora con una serie de matrices Un el sistema calcula el estado final a partir de un estado inicial."
   ]
  },
  {
   "cell_type": "code",
   "execution_count": 43,
   "metadata": {},
   "outputs": [
    {
     "name": "stdout",
     "output_type": "stream",
     "text": [
      "[-0.5-0.5j  0.5+0.5j]\n"
     ]
    }
   ],
   "source": [
    "import numpy as np\n",
    "\n",
    "def es_hermitiana(matriz):\n",
    "    return np.allclose(matriz, matriz.conj().T)\n",
    "\n",
    "def calcular_estado_final(estado_inicial, matrices):\n",
    "    estado_final = estado_inicial.astype(np.complex128)\n",
    "    for matriz in matrices:\n",
    "        estado_final = np.dot(matriz, estado_final)\n",
    "        estado_final /= np.linalg.norm(estado_final)\n",
    "    return estado_final\n",
    "matrices_dinamica = [\n",
    "    np.array([[0, 1], [1, 0]], dtype=np.complex128), \n",
    "    np.array([[1, 0], [0, np.exp(1j * np.pi / 4)]], dtype=np.complex128), \n",
    "    np.array([[np.cos(np.pi / 4), -np.sin(np.pi / 4)],  \n",
    "              [np.sin(np.pi / 4), np.cos(np.pi / 4)]], dtype=np.complex128)\n",
    "]\n",
    "estado_inicial = np.array([1, 0], dtype=np.complex128)\n",
    "\n",
    "estado_final = calcular_estado_final(estado_inicial, matrices_dinamica)\n",
    "print(estado_final)"
   ]
  },
  {
   "cell_type": "markdown",
   "metadata": {},
   "source": [
    "### Realice los siguientes problemas e incluyalos como ejemplos\n",
    "Modele en su librería los problemas\n",
    "4.3.1"
   ]
  },
  {
   "cell_type": "code",
   "execution_count": 6,
   "metadata": {},
   "outputs": [
    {
     "name": "stdout",
     "output_type": "stream",
     "text": [
      "Probabilidad de transición en spin up: 0\n",
      "Probabilidad de transición en spin down: 1\n"
     ]
    }
   ],
   "source": [
    "import numpy as np\n",
    "\n",
    "def calcular_probabilidades(estado_inicial):\n",
    "    Sx = np.array([[0, 1], [1, 0]])\n",
    "    estado_resultante = np.dot(Sx, estado_inicial)\n",
    "\n",
    "    prob_spin_up = abs(estado_resultante[0])**2\n",
    "    prob_spin_down = abs(estado_resultante[1])**2\n",
    "\n",
    "    return prob_spin_up, prob_spin_down\n",
    "\n",
    "estado_inicial = np.array([1, 0])\n",
    "prob = calcular_probabilidades(estado_inicial)\n",
    "\n",
    "print(\"Probabilidad de transición en spin up:\", prob[0])\n",
    "print(\"Probabilidad de transición en spin down:\", prob[1])\n",
    "\n"
   ]
  },
  {
   "cell_type": "markdown",
   "metadata": {},
   "source": [
    "###\n",
    "4.3.2"
   ]
  },
  {
   "cell_type": "code",
   "execution_count": 10,
   "metadata": {},
   "outputs": [
    {
     "name": "stdout",
     "output_type": "stream",
     "text": [
      "Probabilidad de transición en spin up: 0\n",
      "Probabilidad de transición en spin down: 1\n"
     ]
    },
    {
     "data": {
      "text/plain": [
       "Text(0.5, 1.0, 'gráfica probabilidad de valores propios')"
      ]
     },
     "execution_count": 10,
     "metadata": {},
     "output_type": "execute_result"
    },
    {
     "data": {
      "image/png": "[encoded data removed]",
      "text/plain": [
       "<Figure size 640x480 with 1 Axes>"
      ]
     },
     "metadata": {},
     "output_type": "display_data"
    }
   ],
   "source": [
    "import numpy as np\n",
    "import matplotlib.pyplot as plt\n",
    "\n",
    "est_in = np.array([1, 0])\n",
    "\n",
    "Spiny= np.array([[0, 1], [1, 0]])\n",
    "\n",
    "result = np.dot(Spiny, est_in)\n",
    "\n",
    "prob_spin_arriba = abs(result[0])**2\n",
    "prob_spin_abajo = abs(result[1])**2\n",
    "\n",
    "print(\"Probabilidad de transición en spin up:\", prob_spin_arriba)\n",
    "print(\"Probabilidad de transición en spin down:\", prob_spin_abajo)\n",
    "\n",
    "valores_propios, _ = np.linalg.eig(Spiny)\n",
    "plt.bar(np.arange(len(valores_propios)), abs(result)**2)\n",
    "plt.xticks(np.arange(len(valores_propios)), valores_propios)\n",
    "plt.xlabel('Valores propios')\n",
    "plt.ylabel('Probabilidad')\n",
    "plt.title('gráfica probabilidad de valores propios')\n"
   ]
  },
  {
   "cell_type": "markdown",
   "metadata": {},
   "source": [
    "###\n",
    "4.4.1"
   ]
  },
  {
   "cell_type": "code",
   "execution_count": 12,
   "metadata": {},
   "outputs": [
    {
     "name": "stdout",
     "output_type": "stream",
     "text": [
      "U1 es unitaria\n",
      "U2 es unitaria\n",
      "El producto de U1 y U2 es unitario\n"
     ]
    }
   ],
   "source": [
    "import numpy as np\n",
    "\n",
    "def verificar_unitarias_y_producto():\n",
    "    matriz1 = np.array([[0, 1], [1, 0]])\n",
    "    matriz2 = np.array([[np.sqrt(2)/2, np.sqrt(2)/2], [np.sqrt(2)/2, -np.sqrt(2)/2]])\n",
    "\n",
    "    unidad1 = \"es\" if np.allclose(np.dot(matriz1.conj().T, matriz1), np.eye(2)) else \"no es\"\n",
    "    unidad2 = \"es\" if np.allclose(np.dot(matriz2.conj().T, matriz2), np.eye(2)) else \"no es\"\n",
    "\n",
    "    productom= np.dot(matriz1, matriz2)\n",
    "    productou= \"es\" if np.allclose(np.dot(productom.conj().T, productom), np.eye(2)) else \"no es\"\n",
    "\n",
    "    print(\"U1\", unidad1, \"unitaria\")\n",
    "    print(\"U2\", unidad2, \"unitaria\")\n",
    "    print(\"El producto de U1 y U2\", productou, \"unitario\")\n",
    "\n",
    "verificar_unitarias_y_producto()\n"
   ]
  },
  {
   "cell_type": "markdown",
   "metadata": {},
   "source": [
    "###\n",
    "4.4.2"
   ]
  },
  {
   "cell_type": "code",
   "execution_count": 22,
   "metadata": {},
   "outputs": [
    {
     "name": "stdout",
     "output_type": "stream",
     "text": [
      "El estado despues de 3 tiempos es  [ 0.        +0.j         -0.70710678+0.70710678j  0.        +0.j\n",
      "  0.        +0.j        ]\n",
      "La probabilidad de encontrar el punto en el tiempo 3 es  0.0\n"
     ]
    }
   ],
   "source": [
    "import numpy as np\n",
    "\n",
    "def simular_mapa_cuantico():\n",
    "    mapa_cuan = np.array([\n",
    "        [0, 1/np.sqrt(2), 1/np.sqrt(2), 0],\n",
    "        [1j/np.sqrt(2), 0, 0, 1/np.sqrt(2)],\n",
    "        [1/np.sqrt(2), 0, 0, 1j/np.sqrt(2)],\n",
    "        [0, 1/np.sqrt(2), -1/np.sqrt(2), 0]\n",
    "    ])\n",
    "\n",
    "    estado_inicial = np.array([1, 0, 0, 0])\n",
    "\n",
    "    estado_final = np.linalg.matrix_power(mapa_cuan, 3) @ estado_inicial\n",
    "\n",
    "    probabilidad = np.abs(estado_final[2])**2\n",
    "\n",
    "    print(\"El estado despues de 3 tiempos es \", estado_final)\n",
    "    print(\"La probabilidad de encontrar el punto en el tiempo 3 es \", probabilidad)\n",
    "\n",
    "simular_mapa_cuantico()\n"
   ]
  },
  {
   "cell_type": "markdown",
   "metadata": {},
   "source": [
    "###\n",
    "Desarrolle e incluya en el Github una discusión de los ejercicios 4.5.2 y 4.5.3"
   ]
  },
  {
   "cell_type": "markdown",
   "metadata": {},
   "source": [
    "###\n",
    "4.5.2 \n",
    "∣Ψ⟩=∣ψ1⟩⊗∣ψ2⟩⊗…⊗∣ψ n⟩"
   ]
  },
  {
   "cell_type": "markdown",
   "metadata": {},
   "source": [
    "4.5.3 ∣α⟩⊗∣β⟩=ac∣x0⟩⊗∣y 0⟩+ad∣x0⟩⊗∣y 1⟩+bc∣x 1⟩⊗∣y 0⟩+bd∣x 1⟩⊗∣y 1⟩"
   ]
  }
 ],
 "metadata": {
  "kernelspec": {
   "display_name": "Python 3",
   "language": "python",
   "name": "python3"
  },
  "language_info": {
   "codemirror_mode": {
    "name": "ipython",
    "version": 3
   },
   "file_extension": ".py",
   "mimetype": "text/x-python",
   "name": "python",
   "nbconvert_exporter": "python",
   "pygments_lexer": "ipython3",
   "version": "3.12.7"
  }
 },
 "nbformat": 4,
 "nbformat_minor": 2
}
